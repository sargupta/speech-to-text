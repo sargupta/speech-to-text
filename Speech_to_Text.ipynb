{
  "nbformat": 4,
  "nbformat_minor": 0,
  "metadata": {
    "colab": {
      "name": "Speech to Text.ipynb",
      "version": "0.3.2",
      "provenance": [],
      "include_colab_link": true
    },
    "language_info": {
      "codemirror_mode": {
        "name": "ipython",
        "version": 3
      },
      "file_extension": ".py",
      "mimetype": "text/x-python",
      "name": "python",
      "nbconvert_exporter": "python",
      "pygments_lexer": "ipython3",
      "version": "3.7.3"
    },
    "kernelspec": {
      "display_name": "Python 3",
      "language": "python",
      "name": "python3"
    }
  },
  "cells": [
    {
      "cell_type": "markdown",
      "metadata": {
        "id": "view-in-github",
        "colab_type": "text"
      },
      "source": [
        "<a href=\"https://colab.research.google.com/github/sargupta/speech-to-text/blob/master/Speech_to_Text.ipynb\" target=\"_parent\"><img src=\"https://colab.research.google.com/assets/colab-badge.svg\" alt=\"Open In Colab\"/></a>"
      ]
    },
    {
      "metadata": {
        "id": "eYmhDJldfEH0",
        "colab_type": "code",
        "colab": {}
      },
      "cell_type": "code",
      "source": [
        "'''\n",
        "Run this at first in your terminal (or anaconda terminal)\n",
        "$ pip install SpeechRecognition \n",
        " '''\n",
        "import speech_recognition as sr\n",
        "import webbrowser as wb\n"
      ],
      "execution_count": 0,
      "outputs": []
    },
    {
      "metadata": {
        "id": "3jWOzoJlfEH3",
        "colab_type": "code",
        "colab": {}
      },
      "cell_type": "code",
      "source": [
        "import pyaudio\n"
      ],
      "execution_count": 0,
      "outputs": []
    },
    {
      "metadata": {
        "id": "kQ-khG4CfEH5",
        "colab_type": "code",
        "colab": {}
      },
      "cell_type": "code",
      "source": [
        "chrome_path = '/usr/bin/google-chrome'\n",
        "r = sr.Recognizer()"
      ],
      "execution_count": 0,
      "outputs": []
    },
    {
      "metadata": {
        "id": "9vAUg6svfEH7",
        "colab_type": "code",
        "colab": {},
        "outputId": "24f2b637-4713-4c88-a31a-7a3a3660ec16"
      },
      "cell_type": "code",
      "source": [
        "# NOTE: this requires PyAudio because it uses the Microphone class\n",
        "\n",
        "with sr.Microphone() as source: # use the default microphone as the audio source\n",
        "    print('Say Something!')\n",
        "    audio = r.listen(source)    # listen for the first phrase and extract it into audio data\n",
        "\n",
        "     \n",
        "\n",
        "try:\n",
        "    text = r.recognize_google(audio)   # recognize speech using Google Speech Recognition\n",
        "    print('You said: ' + text)\n",
        "    \n",
        "    c_text = 'https://www.google.co.in/search?q='+text      \n",
        "    #wb.get(chrome_path).open(c_text)\n",
        "\n",
        "except Exception as e: # speech is unintelligible\n",
        "    print(e)\n",
        "\n",
        "print('Done')"
      ],
      "execution_count": 0,
      "outputs": [
        {
          "output_type": "stream",
          "text": [
            "Say Something!\n",
            "You said: I'm testing you to see if you are\n",
            "Done\n"
          ],
          "name": "stdout"
        }
      ]
    },
    {
      "metadata": {
        "id": "_NkbHX33fEH_",
        "colab_type": "code",
        "colab": {}
      },
      "cell_type": "code",
      "source": [
        ""
      ],
      "execution_count": 0,
      "outputs": []
    },
    {
      "metadata": {
        "id": "LX6qiAGvfEIB",
        "colab_type": "code",
        "colab": {}
      },
      "cell_type": "code",
      "source": [
        ""
      ],
      "execution_count": 0,
      "outputs": []
    }
  ]
}